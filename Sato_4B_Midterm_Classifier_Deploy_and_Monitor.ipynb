{
 "cells": [
  {
   "cell_type": "markdown",
   "metadata": {
    "id": "0pYcHUaGRPUy"
   },
   "source": [
    "# Import all Keras, WandB, Pillow, and FastAPI Libraries"
   ]
  },
  {
   "cell_type": "markdown",
   "metadata": {
    "id": "B4m9mMVS5AsQ"
   },
   "source": [
    "## Import Keras, FastAPI, Pillow, time, and numpy libraries"
   ]
  },
  {
   "cell_type": "code",
   "execution_count": 1,
   "metadata": {
    "id": "mTd8NTs8L8Ni"
   },
   "outputs": [
    {
     "name": "stdout",
     "output_type": "stream",
     "text": [
      "Collecting fastapi\n",
      "  Downloading fastapi-0.68.0-py3-none-any.whl (52 kB)\n",
      "\u001b[K     |████████████████████████████████| 52 kB 1.1 MB/s eta 0:00:011\n",
      "\u001b[?25hRequirement already satisfied: nest-asyncio in /opt/conda/lib/python3.7/site-packages (1.5.1)\n",
      "Collecting pyngrok\n",
      "  Downloading pyngrok-5.0.5.tar.gz (745 kB)\n",
      "\u001b[K     |████████████████████████████████| 745 kB 7.3 MB/s eta 0:00:01\n",
      "\u001b[?25hCollecting uvicorn\n",
      "  Downloading uvicorn-0.14.0-py3-none-any.whl (50 kB)\n",
      "\u001b[K     |████████████████████████████████| 50 kB 8.3 MB/s  eta 0:00:01\n",
      "\u001b[?25hCollecting python-multipart\n",
      "  Downloading python-multipart-0.0.5.tar.gz (32 kB)\n",
      "Requirement already satisfied: pydantic!=1.7,!=1.7.1,!=1.7.2,!=1.7.3,!=1.8,!=1.8.1,<2.0.0,>=1.6.2 in /opt/conda/lib/python3.7/site-packages (from fastapi) (1.8.2)\n",
      "Collecting starlette==0.14.2\n",
      "  Downloading starlette-0.14.2-py3-none-any.whl (60 kB)\n",
      "\u001b[K     |████████████████████████████████| 60 kB 6.9 MB/s  eta 0:00:01\n",
      "\u001b[?25hRequirement already satisfied: PyYAML in /opt/conda/lib/python3.7/site-packages (from pyngrok) (5.4.1)\n",
      "Collecting h11>=0.8\n",
      "  Downloading h11-0.12.0-py3-none-any.whl (54 kB)\n",
      "\u001b[K     |████████████████████████████████| 54 kB 4.9 MB/s  eta 0:00:01\n",
      "\u001b[?25hCollecting asgiref>=3.3.4\n",
      "  Downloading asgiref-3.4.1-py3-none-any.whl (25 kB)\n",
      "Requirement already satisfied: typing-extensions in /opt/conda/lib/python3.7/site-packages (from uvicorn) (3.10.0.0)\n",
      "Requirement already satisfied: click>=7.* in /opt/conda/lib/python3.7/site-packages (from uvicorn) (8.0.1)\n",
      "Requirement already satisfied: six>=1.4.0 in /opt/conda/lib/python3.7/site-packages (from python-multipart) (1.16.0)\n",
      "Requirement already satisfied: importlib-metadata in /opt/conda/lib/python3.7/site-packages (from click>=7.*->uvicorn) (4.6.3)\n",
      "Requirement already satisfied: zipp>=0.5 in /opt/conda/lib/python3.7/site-packages (from importlib-metadata->click>=7.*->uvicorn) (3.5.0)\n",
      "Building wheels for collected packages: pyngrok, python-multipart\n",
      "  Building wheel for pyngrok (setup.py) ... \u001b[?25ldone\n",
      "\u001b[?25h  Created wheel for pyngrok: filename=pyngrok-5.0.5-py3-none-any.whl size=19246 sha256=4ad47194a6113db537dc2b0f5decbe5464abbe14570154a17a57d1a11cd6f962\n",
      "  Stored in directory: /home/jupyter/.cache/pip/wheels/1b/f7/72/35c95a53d15b91dd00df6cf1304d49a31ec5ed6f954c2d4e32\n",
      "  Building wheel for python-multipart (setup.py) ... \u001b[?25ldone\n",
      "\u001b[?25h  Created wheel for python-multipart: filename=python_multipart-0.0.5-py3-none-any.whl size=31670 sha256=aff72f9899e69081a911434afd937b4e2511326fcc611efeb3f5e54aab96c921\n",
      "  Stored in directory: /home/jupyter/.cache/pip/wheels/2c/41/7c/bfd1c180534ffdcc0972f78c5758f89881602175d48a8bcd2c\n",
      "Successfully built pyngrok python-multipart\n",
      "Installing collected packages: starlette, h11, asgiref, uvicorn, python-multipart, pyngrok, fastapi\n",
      "Successfully installed asgiref-3.4.1 fastapi-0.68.0 h11-0.12.0 pyngrok-5.0.5 python-multipart-0.0.5 starlette-0.14.2 uvicorn-0.14.0\n"
     ]
    },
    {
     "name": "stderr",
     "output_type": "stream",
     "text": [
      "Using TensorFlow backend.\n"
     ]
    }
   ],
   "source": [
    "#%%capture\n",
    "!pip install fastapi nest-asyncio pyngrok uvicorn python-multipart\n",
    "import keras\n",
    "from keras import models, preprocessing, datasets, Model, losses\n",
    "\n",
    "import tensorflow as tf\n",
    "from tensorflow.keras.utils import to_categorical\n",
    "\n",
    "from PIL import Image\n",
    "\n",
    "import time\n",
    "\n",
    "import numpy as np\n",
    "\n",
    "from fastapi import FastAPI, File, UploadFile\n",
    "import nest_asyncio\n",
    "from pyngrok import ngrok\n",
    "import uvicorn\n",
    "\n",
    "from io import BytesIO"
   ]
  },
  {
   "cell_type": "markdown",
   "metadata": {
    "id": "j2IIiu2vF54B"
   },
   "source": [
    "## Import Weights and Balances Python Library"
   ]
  },
  {
   "cell_type": "code",
   "execution_count": 2,
   "metadata": {
    "id": "j-DR8cFfMd90"
   },
   "outputs": [
    {
     "name": "stdout",
     "output_type": "stream",
     "text": [
      "Collecting wandb\n",
      "  Downloading wandb-0.11.2-py2.py3-none-any.whl (1.8 MB)\n",
      "\u001b[K     |████████████████████████████████| 1.8 MB 4.9 MB/s eta 0:00:01\n",
      "\u001b[?25hRequirement already satisfied: six>=1.13.0 in /opt/conda/lib/python3.7/site-packages (from wandb) (1.16.0)\n",
      "Collecting shortuuid>=0.5.0\n",
      "  Downloading shortuuid-1.0.1-py3-none-any.whl (7.5 kB)\n",
      "Collecting subprocess32>=3.5.3\n",
      "  Downloading subprocess32-3.5.4.tar.gz (97 kB)\n",
      "\u001b[K     |████████████████████████████████| 97 kB 9.6 MB/s  eta 0:00:01\n",
      "\u001b[?25hRequirement already satisfied: PyYAML in /opt/conda/lib/python3.7/site-packages (from wandb) (5.4.1)\n",
      "Requirement already satisfied: GitPython>=1.0.0 in /opt/conda/lib/python3.7/site-packages (from wandb) (3.1.18)\n",
      "Requirement already satisfied: docker-pycreds>=0.4.0 in /opt/conda/lib/python3.7/site-packages (from wandb) (0.4.0)\n",
      "Requirement already satisfied: python-dateutil>=2.6.1 in /opt/conda/lib/python3.7/site-packages (from wandb) (2.8.2)\n",
      "Requirement already satisfied: promise<3,>=2.0 in /opt/conda/lib/python3.7/site-packages (from wandb) (2.3)\n",
      "Collecting pathtools\n",
      "  Downloading pathtools-0.1.2.tar.gz (11 kB)\n",
      "Collecting sentry-sdk>=1.0.0\n",
      "  Downloading sentry_sdk-1.3.1-py2.py3-none-any.whl (133 kB)\n",
      "\u001b[K     |████████████████████████████████| 133 kB 23.6 MB/s eta 0:00:01\n",
      "\u001b[?25hRequirement already satisfied: psutil>=5.0.0 in /opt/conda/lib/python3.7/site-packages (from wandb) (5.8.0)\n",
      "Requirement already satisfied: urllib3>=1.26.5 in /opt/conda/lib/python3.7/site-packages (from wandb) (1.26.6)\n",
      "Requirement already satisfied: requests<3,>=2.0.0 in /opt/conda/lib/python3.7/site-packages (from wandb) (2.25.1)\n",
      "Requirement already satisfied: Click!=8.0.0,>=7.0 in /opt/conda/lib/python3.7/site-packages (from wandb) (8.0.1)\n",
      "Requirement already satisfied: protobuf>=3.12.0 in /opt/conda/lib/python3.7/site-packages (from wandb) (3.16.0)\n",
      "Collecting configparser>=3.8.1\n",
      "  Downloading configparser-5.0.2-py3-none-any.whl (19 kB)\n",
      "Requirement already satisfied: importlib-metadata in /opt/conda/lib/python3.7/site-packages (from Click!=8.0.0,>=7.0->wandb) (4.6.3)\n",
      "Requirement already satisfied: gitdb<5,>=4.0.1 in /opt/conda/lib/python3.7/site-packages (from GitPython>=1.0.0->wandb) (4.0.7)\n",
      "Requirement already satisfied: typing-extensions>=3.7.4.0 in /opt/conda/lib/python3.7/site-packages (from GitPython>=1.0.0->wandb) (3.10.0.0)\n",
      "Requirement already satisfied: smmap<5,>=3.0.1 in /opt/conda/lib/python3.7/site-packages (from gitdb<5,>=4.0.1->GitPython>=1.0.0->wandb) (3.0.5)\n",
      "Requirement already satisfied: certifi>=2017.4.17 in /opt/conda/lib/python3.7/site-packages (from requests<3,>=2.0.0->wandb) (2021.5.30)\n",
      "Requirement already satisfied: chardet<5,>=3.0.2 in /opt/conda/lib/python3.7/site-packages (from requests<3,>=2.0.0->wandb) (4.0.0)\n",
      "Requirement already satisfied: idna<3,>=2.5 in /opt/conda/lib/python3.7/site-packages (from requests<3,>=2.0.0->wandb) (2.10)\n",
      "Requirement already satisfied: zipp>=0.5 in /opt/conda/lib/python3.7/site-packages (from importlib-metadata->Click!=8.0.0,>=7.0->wandb) (3.5.0)\n",
      "Building wheels for collected packages: subprocess32, pathtools\n",
      "  Building wheel for subprocess32 (setup.py) ... \u001b[?25ldone\n",
      "\u001b[?25h  Created wheel for subprocess32: filename=subprocess32-3.5.4-py3-none-any.whl size=6488 sha256=ad1bb535c5211c6b26c02c5e03234c2c164e67faac97b0b930825789e5157efd\n",
      "  Stored in directory: /home/jupyter/.cache/pip/wheels/50/ca/fa/8fca8d246e64f19488d07567547ddec8eb084e8c0d7a59226a\n",
      "  Building wheel for pathtools (setup.py) ... \u001b[?25ldone\n",
      "\u001b[?25h  Created wheel for pathtools: filename=pathtools-0.1.2-py3-none-any.whl size=8784 sha256=1e1798ddf1f4cece5d53be81d403b2e40fa28c89057045eb03dff1442ccdda6f\n",
      "  Stored in directory: /home/jupyter/.cache/pip/wheels/3e/31/09/fa59cef12cdcfecc627b3d24273699f390e71828921b2cbba2\n",
      "Successfully built subprocess32 pathtools\n",
      "Installing collected packages: subprocess32, shortuuid, sentry-sdk, pathtools, configparser, wandb\n",
      "Successfully installed configparser-5.0.2 pathtools-0.1.2 sentry-sdk-1.3.1 shortuuid-1.0.1 subprocess32-3.5.4 wandb-0.11.2\n"
     ]
    }
   ],
   "source": [
    "#%%capture\n",
    "!pip install wandb\n",
    "import wandb"
   ]
  },
  {
   "cell_type": "markdown",
   "metadata": {
    "id": "qkBCyKsnHY8V"
   },
   "source": [
    "# Log in to Weights and Balances (Free Account Available to Try)"
   ]
  },
  {
   "cell_type": "code",
   "execution_count": 4,
   "metadata": {
    "colab": {
     "base_uri": "https://localhost:8080/"
    },
    "id": "uXcNNu2cFMKt",
    "outputId": "dcd284f3-0b2d-4051-8a05-39a6c0ee1622"
   },
   "outputs": [
    {
     "name": "stderr",
     "output_type": "stream",
     "text": [
      "\u001b[34m\u001b[1mwandb\u001b[0m: Currently logged in as: \u001b[33mjamesysato\u001b[0m (use `wandb login --relogin` to force relogin)\n"
     ]
    },
    {
     "data": {
      "text/plain": [
       "True"
      ]
     },
     "execution_count": 4,
     "metadata": {},
     "output_type": "execute_result"
    }
   ],
   "source": [
    "wandb.login()"
   ]
  },
  {
   "cell_type": "markdown",
   "metadata": {
    "id": "llthHXqcxQvB"
   },
   "source": [
    "# Set up System Parameters"
   ]
  },
  {
   "cell_type": "markdown",
   "metadata": {
    "id": "ac4kZ7sbxYAw"
   },
   "source": [
    "## Setup Google Cloud Project and Model Location"
   ]
  },
  {
   "cell_type": "code",
   "execution_count": 5,
   "metadata": {
    "id": "WxPPf277xVy2"
   },
   "outputs": [],
   "source": [
    "CLOUD_PROJECT = 'mlops-content1' # Cloud Project Name\n",
    "BUCKET = 'gs://' + CLOUD_PROJECT + '-james-mlops-midterm' # Model Storage Bucket\n",
    "model_dir = 'james-mlops-midterm'"
   ]
  },
  {
   "cell_type": "markdown",
   "metadata": {
    "id": "5AVNX-s21iZy"
   },
   "source": [
    "## Initialize Google Cloud with Parameters"
   ]
  },
  {
   "cell_type": "code",
   "execution_count": 6,
   "metadata": {
    "colab": {
     "base_uri": "https://localhost:8080/"
    },
    "id": "VKR60aEk1qBJ",
    "outputId": "d88c59e5-6ed4-41c7-8d8a-66f1e7775305"
   },
   "outputs": [
    {
     "name": "stdout",
     "output_type": "stream",
     "text": [
      "Updated property [core/project].\n"
     ]
    }
   ],
   "source": [
    "!gcloud config set project $CLOUD_PROJECT"
   ]
  },
  {
   "cell_type": "markdown",
   "metadata": {
    "id": "ny9vHqMz14ms"
   },
   "source": [
    "# Check your Cloud Bucket for the model files\n",
    "\n"
   ]
  },
  {
   "cell_type": "code",
   "execution_count": 7,
   "metadata": {
    "colab": {
     "base_uri": "https://localhost:8080/"
    },
    "id": "qph79bdJRDp7",
    "outputId": "762fb42a-2a14-4ac5-e096-d8c38bfc094d"
   },
   "outputs": [
    {
     "name": "stdout",
     "output_type": "stream",
     "text": [
      "gs://mlops-content1-james-mlops-midterm/james-mlops-midterm/:\n",
      "gs://mlops-content1-james-mlops-midterm/james-mlops-midterm/\n",
      "gs://mlops-content1-james-mlops-midterm/james-mlops-midterm/keras_metadata.pb\n",
      "gs://mlops-content1-james-mlops-midterm/james-mlops-midterm/saved_model.pb\n",
      "\n",
      "gs://mlops-content1-james-mlops-midterm/james-mlops-midterm/assets/:\n",
      "gs://mlops-content1-james-mlops-midterm/james-mlops-midterm/assets/\n",
      "\n",
      "gs://mlops-content1-james-mlops-midterm/james-mlops-midterm/variables/:\n",
      "gs://mlops-content1-james-mlops-midterm/james-mlops-midterm/variables/\n",
      "gs://mlops-content1-james-mlops-midterm/james-mlops-midterm/variables/variables.data-00000-of-00001\n",
      "gs://mlops-content1-james-mlops-midterm/james-mlops-midterm/variables/variables.index\n"
     ]
    }
   ],
   "source": [
    "!gsutil ls -r $BUCKET/$model_dir"
   ]
  },
  {
   "cell_type": "markdown",
   "metadata": {
    "id": "4hjJNoCBWaqU"
   },
   "source": [
    "# Load Model"
   ]
  },
  {
   "cell_type": "code",
   "execution_count": 8,
   "metadata": {
    "colab": {
     "base_uri": "https://localhost:8080/"
    },
    "id": "JJDDyB9RWkk1",
    "outputId": "f9b9ca91-c5bf-4d56-f410-5447d64955a4"
   },
   "outputs": [
    {
     "name": "stdout",
     "output_type": "stream",
     "text": [
      "Model: \"sato_4B_MLOps_2021_June_midterm\"\n",
      "_________________________________________________________________\n",
      "Layer (type)                 Output Shape              Param #   \n",
      "=================================================================\n",
      "conv2d (Conv2D)              (None, 32, 32, 64)        1792      \n",
      "_________________________________________________________________\n",
      "activation (Activation)      (None, 32, 32, 64)        0         \n",
      "_________________________________________________________________\n",
      "batch_normalization (BatchNo (None, 32, 32, 64)        256       \n",
      "_________________________________________________________________\n",
      "dropout (Dropout)            (None, 32, 32, 64)        0         \n",
      "_________________________________________________________________\n",
      "conv2d_1 (Conv2D)            (None, 32, 32, 64)        36928     \n",
      "_________________________________________________________________\n",
      "activation_1 (Activation)    (None, 32, 32, 64)        0         \n",
      "_________________________________________________________________\n",
      "batch_normalization_1 (Batch (None, 32, 32, 64)        256       \n",
      "_________________________________________________________________\n",
      "max_pooling2d (MaxPooling2D) (None, 16, 16, 64)        0         \n",
      "_________________________________________________________________\n",
      "conv2d_2 (Conv2D)            (None, 16, 16, 128)       73856     \n",
      "_________________________________________________________________\n",
      "activation_2 (Activation)    (None, 16, 16, 128)       0         \n",
      "_________________________________________________________________\n",
      "batch_normalization_2 (Batch (None, 16, 16, 128)       512       \n",
      "_________________________________________________________________\n",
      "dropout_1 (Dropout)          (None, 16, 16, 128)       0         \n",
      "_________________________________________________________________\n",
      "conv2d_3 (Conv2D)            (None, 16, 16, 128)       147584    \n",
      "_________________________________________________________________\n",
      "activation_3 (Activation)    (None, 16, 16, 128)       0         \n",
      "_________________________________________________________________\n",
      "batch_normalization_3 (Batch (None, 16, 16, 128)       512       \n",
      "_________________________________________________________________\n",
      "max_pooling2d_1 (MaxPooling2 (None, 8, 8, 128)         0         \n",
      "_________________________________________________________________\n",
      "conv2d_4 (Conv2D)            (None, 8, 8, 256)         295168    \n",
      "_________________________________________________________________\n",
      "activation_4 (Activation)    (None, 8, 8, 256)         0         \n",
      "_________________________________________________________________\n",
      "batch_normalization_4 (Batch (None, 8, 8, 256)         1024      \n",
      "_________________________________________________________________\n",
      "dropout_2 (Dropout)          (None, 8, 8, 256)         0         \n",
      "_________________________________________________________________\n",
      "conv2d_5 (Conv2D)            (None, 8, 8, 256)         590080    \n",
      "_________________________________________________________________\n",
      "activation_5 (Activation)    (None, 8, 8, 256)         0         \n",
      "_________________________________________________________________\n",
      "batch_normalization_5 (Batch (None, 8, 8, 256)         1024      \n",
      "_________________________________________________________________\n",
      "dropout_3 (Dropout)          (None, 8, 8, 256)         0         \n",
      "_________________________________________________________________\n",
      "conv2d_6 (Conv2D)            (None, 8, 8, 256)         590080    \n",
      "_________________________________________________________________\n",
      "activation_6 (Activation)    (None, 8, 8, 256)         0         \n",
      "_________________________________________________________________\n",
      "batch_normalization_6 (Batch (None, 8, 8, 256)         1024      \n",
      "_________________________________________________________________\n",
      "max_pooling2d_2 (MaxPooling2 (None, 4, 4, 256)         0         \n",
      "_________________________________________________________________\n",
      "conv2d_7 (Conv2D)            (None, 4, 4, 512)         1180160   \n",
      "_________________________________________________________________\n",
      "activation_7 (Activation)    (None, 4, 4, 512)         0         \n",
      "_________________________________________________________________\n",
      "batch_normalization_7 (Batch (None, 4, 4, 512)         2048      \n",
      "_________________________________________________________________\n",
      "dropout_4 (Dropout)          (None, 4, 4, 512)         0         \n",
      "_________________________________________________________________\n",
      "conv2d_8 (Conv2D)            (None, 4, 4, 512)         2359808   \n",
      "_________________________________________________________________\n",
      "activation_8 (Activation)    (None, 4, 4, 512)         0         \n",
      "_________________________________________________________________\n",
      "batch_normalization_8 (Batch (None, 4, 4, 512)         2048      \n",
      "_________________________________________________________________\n",
      "dropout_5 (Dropout)          (None, 4, 4, 512)         0         \n",
      "_________________________________________________________________\n",
      "conv2d_9 (Conv2D)            (None, 4, 4, 512)         2359808   \n",
      "_________________________________________________________________\n",
      "activation_9 (Activation)    (None, 4, 4, 512)         0         \n",
      "_________________________________________________________________\n",
      "batch_normalization_9 (Batch (None, 4, 4, 512)         2048      \n",
      "_________________________________________________________________\n",
      "max_pooling2d_3 (MaxPooling2 (None, 2, 2, 512)         0         \n",
      "_________________________________________________________________\n",
      "conv2d_10 (Conv2D)           (None, 2, 2, 512)         2359808   \n",
      "_________________________________________________________________\n",
      "activation_10 (Activation)   (None, 2, 2, 512)         0         \n",
      "_________________________________________________________________\n",
      "batch_normalization_10 (Batc (None, 2, 2, 512)         2048      \n",
      "_________________________________________________________________\n",
      "dropout_6 (Dropout)          (None, 2, 2, 512)         0         \n",
      "_________________________________________________________________\n",
      "conv2d_11 (Conv2D)           (None, 2, 2, 512)         2359808   \n",
      "_________________________________________________________________\n",
      "activation_11 (Activation)   (None, 2, 2, 512)         0         \n",
      "_________________________________________________________________\n",
      "batch_normalization_11 (Batc (None, 2, 2, 512)         2048      \n",
      "_________________________________________________________________\n",
      "dropout_7 (Dropout)          (None, 2, 2, 512)         0         \n",
      "_________________________________________________________________\n",
      "conv2d_12 (Conv2D)           (None, 2, 2, 512)         2359808   \n",
      "_________________________________________________________________\n",
      "activation_12 (Activation)   (None, 2, 2, 512)         0         \n",
      "_________________________________________________________________\n",
      "batch_normalization_12 (Batc (None, 2, 2, 512)         2048      \n",
      "_________________________________________________________________\n",
      "max_pooling2d_4 (MaxPooling2 (None, 1, 1, 512)         0         \n",
      "_________________________________________________________________\n",
      "dropout_8 (Dropout)          (None, 1, 1, 512)         0         \n",
      "_________________________________________________________________\n",
      "flatten (Flatten)            (None, 512)               0         \n",
      "_________________________________________________________________\n",
      "dense (Dense)                (None, 512)               262656    \n",
      "_________________________________________________________________\n",
      "activation_13 (Activation)   (None, 512)               0         \n",
      "_________________________________________________________________\n",
      "batch_normalization_13 (Batc (None, 512)               2048      \n",
      "_________________________________________________________________\n",
      "dropout_9 (Dropout)          (None, 512)               0         \n",
      "_________________________________________________________________\n",
      "dense_1 (Dense)              (None, 100)               51300     \n",
      "_________________________________________________________________\n",
      "activation_14 (Activation)   (None, 100)               0         \n",
      "=================================================================\n",
      "Total params: 15,047,588\n",
      "Trainable params: 15,038,116\n",
      "Non-trainable params: 9,472\n",
      "_________________________________________________________________\n"
     ]
    }
   ],
   "source": [
    "model = tf.keras.models.load_model(BUCKET + f'/{model_dir}')\n",
    "model.summary()"
   ]
  },
  {
   "cell_type": "markdown",
   "metadata": {
    "id": "fBIL289LcRNJ"
   },
   "source": [
    "# Set Up Prediction Workflow"
   ]
  },
  {
   "cell_type": "markdown",
   "metadata": {
    "id": "IJ_haWkwfJvT"
   },
   "source": [
    "## Input Normalization"
   ]
  },
  {
   "cell_type": "code",
   "execution_count": 9,
   "metadata": {
    "id": "vvDKYf3qe_Kh"
   },
   "outputs": [],
   "source": [
    "# Production Time Standardized normalization based upon training time values\n",
    "def normalize_production(x):\n",
    "    # This function is normalizes instances in production according to saved training set statistics\n",
    "    # Input: X - a training set\n",
    "    # Output X - a normalized training set according to normalization constants.\n",
    "\n",
    "    # Mean and Standard Deviation values of dataset saved from training time\n",
    "    mean = 121.98703\n",
    "    std = 68.42943\n",
    "    #these values produced during first training and are general for the standard cifar10 training set normalization\n",
    "    return (x-mean)/(std+1e-7)"
   ]
  },
  {
   "cell_type": "markdown",
   "metadata": {
    "id": "QREqmhbmfy8G"
   },
   "source": [
    "## Prediction Function"
   ]
  },
  {
   "cell_type": "code",
   "execution_count": 10,
   "metadata": {
    "id": "laLaxePqfynA"
   },
   "outputs": [],
   "source": [
    "# Prediction Function\n",
    "def predict(x):\n",
    "    prediction = model.predict(x)\n",
    "    output = np.argmax(prediction, axis=-1)\n",
    "    return output"
   ]
  },
  {
   "cell_type": "markdown",
   "metadata": {
    "id": "exNllyhqyP4c"
   },
   "source": [
    "## Class Names for the CIFAR100 Dataset that Model Outputs to"
   ]
  },
  {
   "cell_type": "code",
   "execution_count": 11,
   "metadata": {
    "id": "-p7c2gaxyT6V"
   },
   "outputs": [],
   "source": [
    "CLASS_NAMES = [\"apple\", \"aquarium_fish\", \"baby\", \"bear\", \"beaver\", \"bed\", \"bee\", \"beetle\", \"bicycle\", \"bottle\", \"bowl\", \"boy\", \"bridge\", \"bus\", \"butterfly\", \"camel\", \"can\", \"castle\", \"caterpillar\", \"cattle\", \"chair\", \"chimpanzee\", \"clock\", \"cloud\", \"cockroach\", \"couch\", \"crab\", \"crocodile\", \"cup\", \"dinosaur\", \"dolphin\", \"elephant\", \"flatfish\", \"forest\", \"fox\", \"girl\", \"hamster\", \"house\", \"kangaroo\", \"keyboard\", \"lamp\", \"lawn_mower\", \"leopard\", \"lion\", \"lizard\", \"lobster\", \"man\", \"maple_tree\", \"motorcycle\", \"mountain\", \"mouse\", \"mushroom\", \"oak_tree\", \"orange\", \"orchid\", \"otter\", \"palm_tree\", \"pear\", \"pickup_truck\", \"pine_tree\", \"plain\", \"plate\", \"poppy\", \"porcupine\", \"possum\", \"rabbit\", \"raccoon\", \"ray\", \"road\", \"rocket\", \"rose\", \"sea\", \"seal\", \"shark\", \"shrew\", \"skunk\", \"skyscraper\", \"snail\", \"snake\", \"spider\", \"squirrel\",\"streetcar\", \"sunflower\", \"sweet_pepper\", \"table\", \"tank\", \"telephone\", \"television\", \"tiger\", \"tractor\", \"train\", \"trout\", \"tulip\", \"turtle\", \"wardrobe\", \"whale\", \"willow_tree\", \"wolf\", \"woman\", \"worm\"]"
   ]
  },
  {
   "cell_type": "markdown",
   "metadata": {
    "id": "-eQjPonxhOfR"
   },
   "source": [
    "## Weights and Biases Logging Variables"
   ]
  },
  {
   "cell_type": "code",
   "execution_count": 12,
   "metadata": {
    "id": "KAMoLGEbhWU4"
   },
   "outputs": [],
   "source": [
    "# Track historical outputs for entire deployment\n",
    "output_hist = np.zeros((100, 1))\n",
    "\n",
    "# Track Average Output Value for Data Skew\n",
    "output_val_hist = []\n",
    "output_count = 0\n",
    "\n",
    "# Track Historical Prediction Time for entire deployment\n",
    "pred_hist = []"
   ]
  },
  {
   "cell_type": "markdown",
   "metadata": {
    "id": "CcLFZ_J6f7jZ"
   },
   "source": [
    "## Prediction Runtime with WandB Logging"
   ]
  },
  {
   "cell_type": "code",
   "execution_count": 13,
   "metadata": {
    "id": "P6KUviqqgBCI"
   },
   "outputs": [],
   "source": [
    "# Prediction Runtime Function\n",
    "def run_predict_single(image: Image.Image):\n",
    "    input = np.asarray(image.resize((32, 32)))[..., :3]\n",
    "    input = normalize_production(input)\n",
    "    #input = tf.image.resize(input, (32, 32))\n",
    "    input = np.expand_dims(input, axis = 0)\n",
    "    input = tf.convert_to_tensor(input)\n",
    "    \n",
    "    start_time = time.time()\n",
    "    output = predict(input)\n",
    "    end_time = time.time()\n",
    "\n",
    "    predict_time = end_time - start_time\n",
    "\n",
    "\n",
    "    # Increase Output Count by 1\n",
    "    global output_count\n",
    "    output_count = output_count+1\n",
    "    output_val_hist.append(output)\n",
    "\n",
    "    # Increase output count to historical outputs\n",
    "    output_hist[output] = output_hist[output] + 1\n",
    "    \n",
    "    # Calculate Output with greatest number of appearances\n",
    "    max_count = np.argmax(output_hist)\n",
    "\n",
    "    # Calculate Output History Average\n",
    "    output_ave = sum(output_val_hist)/output_count\n",
    "\n",
    "    # Add Prediction time to history\n",
    "    pred_hist.append(predict_time)\n",
    "    pred_time_ave = np.mean(pred_hist)\n",
    "\n",
    "    # Save Integer Output for WandB logging\n",
    "    output_num = output\n",
    "\n",
    "    output = CLASS_NAMES[output[0]]\n",
    "    output = str(output)\n",
    "    wandb.log(\n",
    "        {'Prediction Time': predict_time, 'Average Prediction Time': pred_time_ave, 'Output': output_num, 'Average Output': output_ave, 'Most Occurring Output': max_count}\n",
    "    )\n",
    "    #return input.shape\n",
    "    return output"
   ]
  },
  {
   "cell_type": "markdown",
   "metadata": {
    "id": "HBUjOShPyZNu"
   },
   "source": [
    "## Image File Reading Function"
   ]
  },
  {
   "cell_type": "code",
   "execution_count": 14,
   "metadata": {
    "id": "GHdGg0ApydyQ"
   },
   "outputs": [],
   "source": [
    "def read_imagefile(file) -> Image.Image:\n",
    "    image = Image.open(BytesIO(file))\n",
    "    return image"
   ]
  },
  {
   "cell_type": "markdown",
   "metadata": {
    "id": "TToI4W4tXIwh"
   },
   "source": [
    "# Create FastAPI App"
   ]
  },
  {
   "cell_type": "code",
   "execution_count": 15,
   "metadata": {
    "id": "MB5dzgvgXLev"
   },
   "outputs": [],
   "source": [
    "app = FastAPI()\n",
    "\n",
    "@app.on_event(\"startup\")\n",
    "def start_wandb():\n",
    "   wandb.init(project=\"mlops-midterm\", sync_tensorboard=True)\n",
    "   return {'message': 'Weights and Balances Started'}\n",
    "\n",
    "\n",
    "@app.get('/')\n",
    "def index():\n",
    "    return {'message': 'This is the homepage of the model, add \\'/docs\\' to the end of the URL to access FastAPI to make predictions with the model'}\n",
    "\n",
    "@app.get('/reload_model')\n",
    "def reload_model():\n",
    "   global model\n",
    "   model = model = tf.keras.models.load_model(BUCKET + f'/{model_dir}')\n",
    "   return {'message': 'Model on GCP reloaded at ' + BUCKET + '/' + model_dir}\n",
    "\n",
    "@app.get('/change_model')\n",
    "async def change_model(string_input):\n",
    "   global model_dir\n",
    "   model_dir = str(string_input)\n",
    "   model = tf.keras.models.load_model(BUCKET + f'/{model_dir}')\n",
    "   return {'message': 'Model on GCP loaded from ' + BUCKET + '/' + model_dir, 'warning': 'This function doesn\\'t currently check for file existence at location'}\n",
    "\n",
    "@app.post('/predict_single')\n",
    "async def predict_api(file: UploadFile = File(...)):\n",
    "    extension = file.filename.split(\".\")[-1] in (\"jpg\", \"jpeg\", \"png\")\n",
    "    if not extension:\n",
    "        return \"Image must be jpg or png format!\"\n",
    "    image = read_imagefile(await file.read())\n",
    "    prediction = run_predict_single(image)\n",
    "    prediction = str(prediction)\n",
    "    print(prediction)\n",
    "    return prediction\n"
   ]
  },
  {
   "cell_type": "markdown",
   "metadata": {
    "id": "maLG1avscSYC"
   },
   "source": [
    "# Run Application"
   ]
  },
  {
   "cell_type": "code",
   "execution_count": null,
   "metadata": {
    "colab": {
     "base_uri": "https://localhost:8080/",
     "height": 1000,
     "referenced_widgets": [
      "8bb9ff59527a40d484e552f02303efe7",
      "92e22e2aea1e403190a7de0b1647ef4a",
      "188a7287ad864bed9e120a0df3382d49",
      "c0b1a1c8b4a04cc1844ebbadf41db75e",
      "0c1a53c27817408f97cef3bc953bb823",
      "d5a21a26da4c4305adb0dc1ae0b30f09",
      "d39129a078eb42c895dfa5192dff7ac3",
      "14b956b138f24a169729228feece98d1"
     ]
    },
    "id": "mwweJG2ScVtL",
    "outputId": "2f16d065-9842-4dc5-ccc6-25f46cd02994"
   },
   "outputs": [
    {
     "name": "stdout",
     "output_type": "stream",
     "text": [
      "Public URL: http://5ccc83811cfb.ngrok.io                                                            \n"
     ]
    },
    {
     "name": "stderr",
     "output_type": "stream",
     "text": [
      "INFO:     Started server process [405]\n",
      "INFO:     Waiting for application startup.\n"
     ]
    },
    {
     "data": {
      "text/html": [
       "\n",
       "                Tracking run with wandb version 0.11.2<br/>\n",
       "                Syncing run <strong style=\"color:#cdcd00\">usual-shape-5</strong> to <a href=\"https://wandb.ai\" target=\"_blank\">Weights & Biases</a> <a href=\"https://docs.wandb.com/integrations/jupyter.html\" target=\"_blank\">(Documentation)</a>.<br/>\n",
       "                Project page: <a href=\"https://wandb.ai/jamesysato/mlops-midterm\" target=\"_blank\">https://wandb.ai/jamesysato/mlops-midterm</a><br/>\n",
       "                Run page: <a href=\"https://wandb.ai/jamesysato/mlops-midterm/runs/w1ghs1fq\" target=\"_blank\">https://wandb.ai/jamesysato/mlops-midterm/runs/w1ghs1fq</a><br/>\n",
       "                Run data is saved locally in <code>/home/jupyter/wandb/run-20210806_043833-w1ghs1fq</code><br/><br/>\n",
       "            "
      ],
      "text/plain": [
       "<IPython.core.display.HTML object>"
      ]
     },
     "metadata": {},
     "output_type": "display_data"
    },
    {
     "name": "stderr",
     "output_type": "stream",
     "text": [
      "INFO:     Application startup complete.\n",
      "INFO:     Uvicorn running on http://127.0.0.1:8000 (Press CTRL+C to quit)\n"
     ]
    },
    {
     "name": "stdout",
     "output_type": "stream",
     "text": [
      "INFO:     209.143.6.229:0 - \"GET /docs HTTP/1.1\" 200 OK\n",
      "INFO:     209.143.6.229:0 - \"GET /openapi.json HTTP/1.1\" 200 OK\n",
      "INFO:     99.147.232.13:0 - \"GET /docs HTTP/1.1\" 200 OK\n",
      "INFO:     99.147.232.13:0 - \"GET /openapi.json HTTP/1.1\" 200 OK\n",
      "keyboard\n",
      "INFO:     99.147.232.13:0 - \"POST /predict_single HTTP/1.1\" 200 OK\n",
      "keyboard\n",
      "INFO:     99.147.232.13:0 - \"POST /predict_single HTTP/1.1\" 200 OK\n",
      "keyboard\n",
      "INFO:     99.147.232.13:0 - \"POST /predict_single HTTP/1.1\" 200 OK\n",
      "keyboard\n",
      "INFO:     99.147.232.13:0 - \"POST /predict_single HTTP/1.1\" 200 OK\n",
      "keyboard\n",
      "INFO:     99.147.232.13:0 - \"POST /predict_single HTTP/1.1\" 200 OK\n",
      "keyboard\n",
      "INFO:     99.147.232.13:0 - \"POST /predict_single HTTP/1.1\" 200 OK\n",
      "keyboard\n",
      "INFO:     99.147.232.13:0 - \"POST /predict_single HTTP/1.1\" 200 OK\n",
      "keyboard\n",
      "INFO:     99.147.232.13:0 - \"POST /predict_single HTTP/1.1\" 200 OK\n",
      "keyboard\n",
      "INFO:     99.147.232.13:0 - \"POST /predict_single HTTP/1.1\" 200 OK\n",
      "keyboard\n",
      "INFO:     99.147.232.13:0 - \"POST /predict_single HTTP/1.1\" 200 OK\n",
      "keyboard\n",
      "INFO:     99.147.232.13:0 - \"POST /predict_single HTTP/1.1\" 200 OK\n",
      "clock\n",
      "INFO:     99.147.232.13:0 - \"POST /predict_single HTTP/1.1\" 200 OK\n",
      "clock\n",
      "INFO:     99.147.232.13:0 - \"POST /predict_single HTTP/1.1\" 200 OK\n",
      "clock\n",
      "INFO:     99.147.232.13:0 - \"POST /predict_single HTTP/1.1\" 200 OK\n",
      "plate\n",
      "INFO:     99.147.232.13:0 - \"POST /predict_single HTTP/1.1\" 200 OK\n",
      "plate\n",
      "INFO:     99.147.232.13:0 - \"POST /predict_single HTTP/1.1\" 200 OK\n",
      "plate\n",
      "INFO:     99.147.232.13:0 - \"POST /predict_single HTTP/1.1\" 200 OK\n",
      "INFO:     99.147.232.13:0 - \"POST /predict_single HTTP/1.1\" 200 OK\n",
      "lawn_mower\n",
      "INFO:     99.147.232.13:0 - \"POST /predict_single HTTP/1.1\" 200 OK\n",
      "lawn_mower\n",
      "INFO:     99.147.232.13:0 - \"POST /predict_single HTTP/1.1\" 200 OK\n",
      "lawn_mower\n",
      "INFO:     99.147.232.13:0 - \"POST /predict_single HTTP/1.1\" 200 OK\n",
      "lawn_mower\n",
      "INFO:     99.147.232.13:0 - \"POST /predict_single HTTP/1.1\" 200 OK\n",
      "lawn_mower\n",
      "INFO:     99.147.232.13:0 - \"POST /predict_single HTTP/1.1\" 200 OK\n"
     ]
    }
   ],
   "source": [
    "ngrok_tunnel = ngrok.connect(8000)\n",
    "print('Public URL:', ngrok_tunnel.public_url)\n",
    "nest_asyncio.apply()\n",
    "uvicorn.run(app, port=8000)"
   ]
  }
 ],
 "metadata": {
  "accelerator": "GPU",
  "colab": {
   "collapsed_sections": [
    "HBUjOShPyZNu"
   ],
   "machine_shape": "hm",
   "name": "Sato_4B_Midterm_Classifier_Deploy_and_Monitor.ipynb",
   "provenance": []
  },
  "environment": {
   "name": "tf2-gpu.2-3.m76",
   "type": "gcloud",
   "uri": "gcr.io/deeplearning-platform-release/tf2-gpu.2-3:m76"
  },
  "kernelspec": {
   "display_name": "Python 3",
   "language": "python",
   "name": "python3"
  },
  "language_info": {
   "codemirror_mode": {
    "name": "ipython",
    "version": 3
   },
   "file_extension": ".py",
   "mimetype": "text/x-python",
   "name": "python",
   "nbconvert_exporter": "python",
   "pygments_lexer": "ipython3",
   "version": "3.7.10"
  },
  "widgets": {
   "application/vnd.jupyter.widget-state+json": {
    "0c1a53c27817408f97cef3bc953bb823": {
     "model_module": "@jupyter-widgets/controls",
     "model_name": "DescriptionStyleModel",
     "state": {
      "_model_module": "@jupyter-widgets/controls",
      "_model_module_version": "1.5.0",
      "_model_name": "DescriptionStyleModel",
      "_view_count": null,
      "_view_module": "@jupyter-widgets/base",
      "_view_module_version": "1.2.0",
      "_view_name": "StyleView",
      "description_width": ""
     }
    },
    "14b956b138f24a169729228feece98d1": {
     "model_module": "@jupyter-widgets/base",
     "model_name": "LayoutModel",
     "state": {
      "_model_module": "@jupyter-widgets/base",
      "_model_module_version": "1.2.0",
      "_model_name": "LayoutModel",
      "_view_count": null,
      "_view_module": "@jupyter-widgets/base",
      "_view_module_version": "1.2.0",
      "_view_name": "LayoutView",
      "align_content": null,
      "align_items": null,
      "align_self": null,
      "border": null,
      "bottom": null,
      "display": null,
      "flex": null,
      "flex_flow": null,
      "grid_area": null,
      "grid_auto_columns": null,
      "grid_auto_flow": null,
      "grid_auto_rows": null,
      "grid_column": null,
      "grid_gap": null,
      "grid_row": null,
      "grid_template_areas": null,
      "grid_template_columns": null,
      "grid_template_rows": null,
      "height": null,
      "justify_content": null,
      "justify_items": null,
      "left": null,
      "margin": null,
      "max_height": null,
      "max_width": null,
      "min_height": null,
      "min_width": null,
      "object_fit": null,
      "object_position": null,
      "order": null,
      "overflow": null,
      "overflow_x": null,
      "overflow_y": null,
      "padding": null,
      "right": null,
      "top": null,
      "visibility": null,
      "width": null
     }
    },
    "188a7287ad864bed9e120a0df3382d49": {
     "model_module": "@jupyter-widgets/controls",
     "model_name": "LabelModel",
     "state": {
      "_dom_classes": [],
      "_model_module": "@jupyter-widgets/controls",
      "_model_module_version": "1.5.0",
      "_model_name": "LabelModel",
      "_view_count": null,
      "_view_module": "@jupyter-widgets/controls",
      "_view_module_version": "1.5.0",
      "_view_name": "LabelView",
      "description": "",
      "description_tooltip": null,
      "layout": "IPY_MODEL_d5a21a26da4c4305adb0dc1ae0b30f09",
      "placeholder": "​",
      "style": "IPY_MODEL_0c1a53c27817408f97cef3bc953bb823",
      "value": " 0.01MB of 0.01MB uploaded (0.00MB deduped)\r"
     }
    },
    "8bb9ff59527a40d484e552f02303efe7": {
     "model_module": "@jupyter-widgets/controls",
     "model_name": "VBoxModel",
     "state": {
      "_dom_classes": [],
      "_model_module": "@jupyter-widgets/controls",
      "_model_module_version": "1.5.0",
      "_model_name": "VBoxModel",
      "_view_count": null,
      "_view_module": "@jupyter-widgets/controls",
      "_view_module_version": "1.5.0",
      "_view_name": "VBoxView",
      "box_style": "",
      "children": [
       "IPY_MODEL_188a7287ad864bed9e120a0df3382d49",
       "IPY_MODEL_c0b1a1c8b4a04cc1844ebbadf41db75e"
      ],
      "layout": "IPY_MODEL_92e22e2aea1e403190a7de0b1647ef4a"
     }
    },
    "92e22e2aea1e403190a7de0b1647ef4a": {
     "model_module": "@jupyter-widgets/base",
     "model_name": "LayoutModel",
     "state": {
      "_model_module": "@jupyter-widgets/base",
      "_model_module_version": "1.2.0",
      "_model_name": "LayoutModel",
      "_view_count": null,
      "_view_module": "@jupyter-widgets/base",
      "_view_module_version": "1.2.0",
      "_view_name": "LayoutView",
      "align_content": null,
      "align_items": null,
      "align_self": null,
      "border": null,
      "bottom": null,
      "display": null,
      "flex": null,
      "flex_flow": null,
      "grid_area": null,
      "grid_auto_columns": null,
      "grid_auto_flow": null,
      "grid_auto_rows": null,
      "grid_column": null,
      "grid_gap": null,
      "grid_row": null,
      "grid_template_areas": null,
      "grid_template_columns": null,
      "grid_template_rows": null,
      "height": null,
      "justify_content": null,
      "justify_items": null,
      "left": null,
      "margin": null,
      "max_height": null,
      "max_width": null,
      "min_height": null,
      "min_width": null,
      "object_fit": null,
      "object_position": null,
      "order": null,
      "overflow": null,
      "overflow_x": null,
      "overflow_y": null,
      "padding": null,
      "right": null,
      "top": null,
      "visibility": null,
      "width": null
     }
    },
    "c0b1a1c8b4a04cc1844ebbadf41db75e": {
     "model_module": "@jupyter-widgets/controls",
     "model_name": "FloatProgressModel",
     "state": {
      "_dom_classes": [],
      "_model_module": "@jupyter-widgets/controls",
      "_model_module_version": "1.5.0",
      "_model_name": "FloatProgressModel",
      "_view_count": null,
      "_view_module": "@jupyter-widgets/controls",
      "_view_module_version": "1.5.0",
      "_view_name": "ProgressView",
      "bar_style": "",
      "description": "",
      "description_tooltip": null,
      "layout": "IPY_MODEL_14b956b138f24a169729228feece98d1",
      "max": 1,
      "min": 0,
      "orientation": "horizontal",
      "style": "IPY_MODEL_d39129a078eb42c895dfa5192dff7ac3",
      "value": 1
     }
    },
    "d39129a078eb42c895dfa5192dff7ac3": {
     "model_module": "@jupyter-widgets/controls",
     "model_name": "ProgressStyleModel",
     "state": {
      "_model_module": "@jupyter-widgets/controls",
      "_model_module_version": "1.5.0",
      "_model_name": "ProgressStyleModel",
      "_view_count": null,
      "_view_module": "@jupyter-widgets/base",
      "_view_module_version": "1.2.0",
      "_view_name": "StyleView",
      "bar_color": null,
      "description_width": ""
     }
    },
    "d5a21a26da4c4305adb0dc1ae0b30f09": {
     "model_module": "@jupyter-widgets/base",
     "model_name": "LayoutModel",
     "state": {
      "_model_module": "@jupyter-widgets/base",
      "_model_module_version": "1.2.0",
      "_model_name": "LayoutModel",
      "_view_count": null,
      "_view_module": "@jupyter-widgets/base",
      "_view_module_version": "1.2.0",
      "_view_name": "LayoutView",
      "align_content": null,
      "align_items": null,
      "align_self": null,
      "border": null,
      "bottom": null,
      "display": null,
      "flex": null,
      "flex_flow": null,
      "grid_area": null,
      "grid_auto_columns": null,
      "grid_auto_flow": null,
      "grid_auto_rows": null,
      "grid_column": null,
      "grid_gap": null,
      "grid_row": null,
      "grid_template_areas": null,
      "grid_template_columns": null,
      "grid_template_rows": null,
      "height": null,
      "justify_content": null,
      "justify_items": null,
      "left": null,
      "margin": null,
      "max_height": null,
      "max_width": null,
      "min_height": null,
      "min_width": null,
      "object_fit": null,
      "object_position": null,
      "order": null,
      "overflow": null,
      "overflow_x": null,
      "overflow_y": null,
      "padding": null,
      "right": null,
      "top": null,
      "visibility": null,
      "width": null
     }
    }
   }
  }
 },
 "nbformat": 4,
 "nbformat_minor": 4
}
